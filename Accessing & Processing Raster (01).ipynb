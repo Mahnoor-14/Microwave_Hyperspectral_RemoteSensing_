{
 "cells": [
  {
   "cell_type": "markdown",
   "id": "b5b11640",
   "metadata": {},
   "source": [
    "# LAB 01"
   ]
  },
  {
   "cell_type": "markdown",
   "id": "f8a5bdf9",
   "metadata": {},
   "source": [
    "## Load libraries"
   ]
  },
  {
   "cell_type": "code",
   "execution_count": 1,
   "id": "e6bd3493",
   "metadata": {},
   "outputs": [
    {
     "ename": "ModuleNotFoundError",
     "evalue": "No module named 'rasterio'",
     "output_type": "error",
     "traceback": [
      "\u001b[1;31m---------------------------------------------------------------------------\u001b[0m",
      "\u001b[1;31mModuleNotFoundError\u001b[0m                       Traceback (most recent call last)",
      "Cell \u001b[1;32mIn[1], line 1\u001b[0m\n\u001b[1;32m----> 1\u001b[0m \u001b[38;5;28;01mfrom\u001b[39;00m \u001b[38;5;21;01mrasterio\u001b[39;00m\u001b[38;5;21;01m.\u001b[39;00m\u001b[38;5;21;01mplot\u001b[39;00m \u001b[38;5;28;01mimport\u001b[39;00m show\n\u001b[0;32m      2\u001b[0m \u001b[38;5;66;03m# import rasterio\u001b[39;00m\n\u001b[0;32m      3\u001b[0m \u001b[38;5;28;01mimport\u001b[39;00m \u001b[38;5;21;01mgeotiff\u001b[39;00m\n",
      "\u001b[1;31mModuleNotFoundError\u001b[0m: No module named 'rasterio'"
     ]
    }
   ],
   "source": [
    "from rasterio.plot import show\n",
    "# import rasterio\n",
    "import geotiff\n",
    "import tifffile\n",
    "from PIL import Image"
   ]
  },
  {
   "cell_type": "code",
   "execution_count": null,
   "id": "51ac47c9",
   "metadata": {},
   "outputs": [],
   "source": [
    "img = Image.open(\"C:\\\\Users\\\\Ahtasham Ahmed\\OneDrive - Higher Education Commission\\\\Desktop\\\\Python\\Microwave lab\\\\Data\\\\ALPSRP244140480-H2.2_UA\\\\HH-ALPSRP244140480-H2.2_UA.tif\")\n",
    "show(img)\n",
    "pixels = img.load()"
   ]
  }
 ],
 "metadata": {
  "kernelspec": {
   "display_name": "Python 3 (ipykernel)",
   "language": "python",
   "name": "python3"
  },
  "language_info": {
   "codemirror_mode": {
    "name": "ipython",
    "version": 3
   },
   "file_extension": ".py",
   "mimetype": "text/x-python",
   "name": "python",
   "nbconvert_exporter": "python",
   "pygments_lexer": "ipython3",
   "version": "3.11.5"
  }
 },
 "nbformat": 4,
 "nbformat_minor": 5
}
